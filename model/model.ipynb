{
 "cells": [
  {
   "cell_type": "markdown",
   "id": "49b05763",
   "metadata": {},
   "source": [
    "### Wayne Enterprises, Inc.'s Next Five days Stock Price Predictor"
   ]
  },
  {
   "cell_type": "code",
   "execution_count": 1,
   "id": "b641ee72",
   "metadata": {},
   "outputs": [],
   "source": [
    "import pandas as pd\n",
    "import numpy as np\n",
    "from sklearn import preprocessing\n",
    "from sklearn.model_selection import train_test_split\n",
    "from sklearn.linear_model import LinearRegression"
   ]
  },
  {
   "cell_type": "code",
   "execution_count": 2,
   "id": "79cd6f36",
   "metadata": {},
   "outputs": [],
   "source": [
    "def prepare_data(df, forecast_col, forecast_out, test_size):\n",
    "    label = df[forecast_col].shift(-forecast_out)\n",
    "    X = np.array(df[[forecast_col]])\n",
    "    X = preprocessing.scale(X)\n",
    "    X_lately = X[-forecast_out:]\n",
    "    X = X[:-forecast_out]\n",
    "    label.dropna(inplace = True)\n",
    "    y = np.array(label)\n",
    "    \n",
    "    X_train, X_test, y_train, y_test = train_test_split(X, y, test_size = test_size, random_state = 0)\n",
    "    \n",
    "    response = [ X_train, X_test, y_train, y_test, X_lately]\n",
    "    \n",
    "    return response"
   ]
  },
  {
   "cell_type": "code",
   "execution_count": 3,
   "id": "9dc7cb74",
   "metadata": {},
   "outputs": [],
   "source": [
    "\n",
    "nf_data = pd.read_csv(\"nifty_50.csv\")\n",
    "nf_data[\"symbol\"] = \"Wyn\"\n",
    "\n",
    "\n",
    "#Wyn is the hypothetical stock symbol of the Wayne Enterprises, Inc."
   ]
  },
  {
   "cell_type": "code",
   "execution_count": 4,
   "id": "006b9bbd",
   "metadata": {},
   "outputs": [
    {
     "data": {
      "text/html": [
       "<div>\n",
       "<style scoped>\n",
       "    .dataframe tbody tr th:only-of-type {\n",
       "        vertical-align: middle;\n",
       "    }\n",
       "\n",
       "    .dataframe tbody tr th {\n",
       "        vertical-align: top;\n",
       "    }\n",
       "\n",
       "    .dataframe thead th {\n",
       "        text-align: right;\n",
       "    }\n",
       "</style>\n",
       "<table border=\"1\" class=\"dataframe\">\n",
       "  <thead>\n",
       "    <tr style=\"text-align: right;\">\n",
       "      <th></th>\n",
       "      <th>Date</th>\n",
       "      <th>Open</th>\n",
       "      <th>High</th>\n",
       "      <th>Low</th>\n",
       "      <th>Close</th>\n",
       "      <th>Shares Traded</th>\n",
       "      <th>Turnover (Rs. Cr)</th>\n",
       "      <th>symbol</th>\n",
       "    </tr>\n",
       "  </thead>\n",
       "  <tbody>\n",
       "    <tr>\n",
       "      <th>0</th>\n",
       "      <td>30-Sep-20</td>\n",
       "      <td>11244.45</td>\n",
       "      <td>11295.40</td>\n",
       "      <td>11184.55</td>\n",
       "      <td>11247.55</td>\n",
       "      <td>499343849</td>\n",
       "      <td>28134.77</td>\n",
       "      <td>Wyn</td>\n",
       "    </tr>\n",
       "    <tr>\n",
       "      <th>1</th>\n",
       "      <td>01-Oct-20</td>\n",
       "      <td>11364.45</td>\n",
       "      <td>11428.60</td>\n",
       "      <td>11347.05</td>\n",
       "      <td>11416.95</td>\n",
       "      <td>447740006</td>\n",
       "      <td>26212.72</td>\n",
       "      <td>Wyn</td>\n",
       "    </tr>\n",
       "    <tr>\n",
       "      <th>2</th>\n",
       "      <td>05-Oct-20</td>\n",
       "      <td>11487.80</td>\n",
       "      <td>11578.05</td>\n",
       "      <td>11452.30</td>\n",
       "      <td>11503.35</td>\n",
       "      <td>530597393</td>\n",
       "      <td>31341.55</td>\n",
       "      <td>Wyn</td>\n",
       "    </tr>\n",
       "    <tr>\n",
       "      <th>3</th>\n",
       "      <td>06-Oct-20</td>\n",
       "      <td>11603.45</td>\n",
       "      <td>11680.30</td>\n",
       "      <td>11564.30</td>\n",
       "      <td>11662.40</td>\n",
       "      <td>561444728</td>\n",
       "      <td>30373.65</td>\n",
       "      <td>Wyn</td>\n",
       "    </tr>\n",
       "    <tr>\n",
       "      <th>4</th>\n",
       "      <td>07-Oct-20</td>\n",
       "      <td>11679.25</td>\n",
       "      <td>11763.05</td>\n",
       "      <td>11629.35</td>\n",
       "      <td>11738.85</td>\n",
       "      <td>513367516</td>\n",
       "      <td>32935.98</td>\n",
       "      <td>Wyn</td>\n",
       "    </tr>\n",
       "  </tbody>\n",
       "</table>\n",
       "</div>"
      ],
      "text/plain": [
       "        Date      Open      High       Low     Close  Shares Traded  \\\n",
       "0  30-Sep-20  11244.45  11295.40  11184.55  11247.55      499343849   \n",
       "1  01-Oct-20  11364.45  11428.60  11347.05  11416.95      447740006   \n",
       "2  05-Oct-20  11487.80  11578.05  11452.30  11503.35      530597393   \n",
       "3  06-Oct-20  11603.45  11680.30  11564.30  11662.40      561444728   \n",
       "4  07-Oct-20  11679.25  11763.05  11629.35  11738.85      513367516   \n",
       "\n",
       "   Turnover (Rs. Cr) symbol  \n",
       "0           28134.77    Wyn  \n",
       "1           26212.72    Wyn  \n",
       "2           31341.55    Wyn  \n",
       "3           30373.65    Wyn  \n",
       "4           32935.98    Wyn  "
      ]
     },
     "execution_count": 4,
     "metadata": {},
     "output_type": "execute_result"
    }
   ],
   "source": [
    "nf_data.head()"
   ]
  },
  {
   "cell_type": "code",
   "execution_count": 5,
   "id": "66d46744",
   "metadata": {},
   "outputs": [
    {
     "data": {
      "text/plain": [
       "Date                  object\n",
       "Open                 float64\n",
       "High                 float64\n",
       "Low                  float64\n",
       "Close                float64\n",
       "Shares Traded          int64\n",
       "Turnover (Rs. Cr)    float64\n",
       "symbol                object\n",
       "dtype: object"
      ]
     },
     "execution_count": 5,
     "metadata": {},
     "output_type": "execute_result"
    }
   ],
   "source": [
    "nf_data.dtypes"
   ]
  },
  {
   "cell_type": "code",
   "execution_count": 6,
   "id": "e28c835d",
   "metadata": {},
   "outputs": [],
   "source": [
    "\n",
    "Xn_train, Xn_test, yn_train, yn_test, Xn_lately = prepare_data(nf_data, forecast_col = \"Close\", forecast_out = 5, test_size = 0.2)"
   ]
  },
  {
   "cell_type": "code",
   "execution_count": 7,
   "id": "8130308f",
   "metadata": {},
   "outputs": [],
   "source": [
    "# Xn_lately"
   ]
  },
  {
   "cell_type": "code",
   "execution_count": 8,
   "id": "f6cafd3e",
   "metadata": {},
   "outputs": [],
   "source": [
    "# yn_train"
   ]
  },
  {
   "cell_type": "code",
   "execution_count": 9,
   "id": "dd107f62",
   "metadata": {},
   "outputs": [
    {
     "data": {
      "text/plain": [
       "LinearRegression()"
      ]
     },
     "execution_count": 9,
     "metadata": {},
     "output_type": "execute_result"
    }
   ],
   "source": [
    "nf_linear = LinearRegression()\n",
    "\n",
    "nf_linear.fit(Xn_train, yn_train)"
   ]
  },
  {
   "cell_type": "code",
   "execution_count": 10,
   "id": "5607523a",
   "metadata": {},
   "outputs": [
    {
     "name": "stdout",
     "output_type": "stream",
     "text": [
      "Wyn prediction score:0.9715571161048697\n",
      "\n",
      "Forecast:[17614.50308349 17433.10537849 17592.19574288 17577.40448247\n",
      " 17843.64716982]\n"
     ]
    }
   ],
   "source": [
    "nf_score = nf_linear.score(Xn_test, yn_test)\n",
    "nf_pred = nf_linear.predict(Xn_lately)\n",
    "\n",
    "print(f\"Wyn prediction score:{nf_score}\\n\\nForecast:{nf_pred}\")"
   ]
  },
  {
   "cell_type": "code",
   "execution_count": 11,
   "id": "2076625b",
   "metadata": {},
   "outputs": [],
   "source": [
    "import pickle as pkl\n",
    "\n",
    "pkl.dump(nf_linear, open(\"model.pkl\", \"wb\"))"
   ]
  },
  {
   "cell_type": "code",
   "execution_count": null,
   "id": "4be70bff",
   "metadata": {},
   "outputs": [],
   "source": []
  }
 ],
 "metadata": {
  "kernelspec": {
   "display_name": "Python 3 (ipykernel)",
   "language": "python",
   "name": "python3"
  },
  "language_info": {
   "codemirror_mode": {
    "name": "ipython",
    "version": 3
   },
   "file_extension": ".py",
   "mimetype": "text/x-python",
   "name": "python",
   "nbconvert_exporter": "python",
   "pygments_lexer": "ipython3",
   "version": "3.9.7"
  }
 },
 "nbformat": 4,
 "nbformat_minor": 5
}
