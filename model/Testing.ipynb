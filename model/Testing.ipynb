{
 "cells": [
  {
   "cell_type": "code",
   "execution_count": 1,
   "id": "9b7fcbd7",
   "metadata": {},
   "outputs": [],
   "source": [
    "import pandas as pd\n",
    "import numpy as np\n",
    "import pickle as pkl\n",
    "from sklearn import preprocessing"
   ]
  },
  {
   "cell_type": "code",
   "execution_count": 2,
   "id": "e370a42b",
   "metadata": {},
   "outputs": [],
   "source": [
    "model = pkl.load(open(\"model.pkl\", \"rb\"))"
   ]
  },
  {
   "cell_type": "code",
   "execution_count": 3,
   "id": "19047024",
   "metadata": {},
   "outputs": [],
   "source": [
    "#After scaling\n",
    "\n",
    "# array([[1.90718024],\n",
    "#        [1.78304975],\n",
    "#        [1.89191532],\n",
    "#        [1.88179366],\n",
    "#        [2.0639836 ]])"
   ]
  },
  {
   "cell_type": "code",
   "execution_count": 4,
   "id": "54888ec5",
   "metadata": {},
   "outputs": [],
   "source": [
    "#Before scaling\n",
    "\n",
    "# array([[17585.15],\n",
    "#        [17396.9 ],\n",
    "#        [17562.  ],\n",
    "#        [17546.65],\n",
    "#        [17822.95]])"
   ]
  },
  {
   "cell_type": "code",
   "execution_count": 5,
   "id": "4fe58eff",
   "metadata": {},
   "outputs": [
    {
     "data": {
      "text/plain": [
       "array([14853.2469323 , 12846.62626271, 14606.4832218 , 14442.86235977,\n",
       "       17388.0378764 ])"
      ]
     },
     "execution_count": 5,
     "metadata": {},
     "output_type": "execute_result"
    }
   ],
   "source": [
    "\n",
    "hana = np.array([[17585.15],\n",
    "       [17396.9 ],\n",
    "       [17562.  ],\n",
    "       [17546.65],\n",
    "       [17822.95]])\n",
    "\n",
    "hana = preprocessing.scale(hana)\n",
    "\n",
    "hana\n",
    "\n",
    "model.predict(hana)"
   ]
  },
  {
   "cell_type": "code",
   "execution_count": 6,
   "id": "a5f43203",
   "metadata": {},
   "outputs": [
    {
     "data": {
      "text/plain": [
       "array([16083.53406204, 15020.42114866, 14258.59415256, 16430.84585048,\n",
       "       12343.86143924])"
      ]
     },
     "execution_count": 6,
     "metadata": {},
     "output_type": "execute_result"
    }
   ],
   "source": [
    "hanr = np.array([[17685.15],\n",
    "       [17496.9 ],\n",
    "       [17362.  ],\n",
    "       [17746.65],\n",
    "       [17022.95]])\n",
    "\n",
    "hanr = preprocessing.scale(hanr)\n",
    "\n",
    "hanr\n",
    "\n",
    "model.predict(hanr)"
   ]
  },
  {
   "cell_type": "code",
   "execution_count": 7,
   "id": "1084f753",
   "metadata": {},
   "outputs": [],
   "source": [
    "val = model.predict(hanr)"
   ]
  },
  {
   "cell_type": "code",
   "execution_count": 8,
   "id": "8094f295",
   "metadata": {},
   "outputs": [
    {
     "data": {
      "text/plain": [
       "15020.4211486579"
      ]
     },
     "execution_count": 8,
     "metadata": {},
     "output_type": "execute_result"
    }
   ],
   "source": [
    "val[1]"
   ]
  },
  {
   "cell_type": "code",
   "execution_count": 9,
   "id": "097f3231",
   "metadata": {},
   "outputs": [],
   "source": [
    "val = np.around(val, 2)"
   ]
  },
  {
   "cell_type": "code",
   "execution_count": 10,
   "id": "205bb816",
   "metadata": {},
   "outputs": [
    {
     "data": {
      "text/plain": [
       "array([16083.53, 15020.42, 14258.59, 16430.85, 12343.86])"
      ]
     },
     "execution_count": 10,
     "metadata": {},
     "output_type": "execute_result"
    }
   ],
   "source": [
    "val"
   ]
  },
  {
   "cell_type": "code",
   "execution_count": 11,
   "id": "6e0fe020",
   "metadata": {},
   "outputs": [],
   "source": [
    "lis = [[17685.15],\n",
    "       [17496.9 ],\n",
    "       [17362.  ],\n",
    "       [17746.65],\n",
    "       [17022.95]]"
   ]
  },
  {
   "cell_type": "code",
   "execution_count": 12,
   "id": "515407a0",
   "metadata": {},
   "outputs": [
    {
     "data": {
      "text/plain": [
       "[[17685.15], [17496.9], [17362.0], [17746.65], [17022.95]]"
      ]
     },
     "execution_count": 12,
     "metadata": {},
     "output_type": "execute_result"
    }
   ],
   "source": [
    "lis"
   ]
  },
  {
   "cell_type": "code",
   "execution_count": 13,
   "id": "eca586ec",
   "metadata": {},
   "outputs": [],
   "source": [
    "lis_array = np.array(lis)"
   ]
  },
  {
   "cell_type": "code",
   "execution_count": 14,
   "id": "034362a5",
   "metadata": {},
   "outputs": [
    {
     "data": {
      "text/plain": [
       "array([[17685.15],\n",
       "       [17496.9 ],\n",
       "       [17362.  ],\n",
       "       [17746.65],\n",
       "       [17022.95]])"
      ]
     },
     "execution_count": 14,
     "metadata": {},
     "output_type": "execute_result"
    }
   ],
   "source": [
    "lis_array"
   ]
  },
  {
   "cell_type": "code",
   "execution_count": 15,
   "id": "0294b29e",
   "metadata": {},
   "outputs": [
    {
     "data": {
      "text/plain": [
       "array([16083.53, 15020.42, 14258.59, 16430.85, 12343.86])"
      ]
     },
     "execution_count": 15,
     "metadata": {},
     "output_type": "execute_result"
    }
   ],
   "source": [
    "val"
   ]
  },
  {
   "cell_type": "code",
   "execution_count": 16,
   "id": "6b543b90",
   "metadata": {},
   "outputs": [],
   "source": [
    "# print(\"what ever\\n{}\\n{}\\n{}\\n{}\\n{}\".format(val[0],val[1],val[2],val[3],val[4]))"
   ]
  },
  {
   "cell_type": "code",
   "execution_count": 17,
   "id": "8679004a",
   "metadata": {},
   "outputs": [],
   "source": [
    "# import seaborn as sns\n",
    "# import matplotlib.pyplot as plt"
   ]
  },
  {
   "cell_type": "code",
   "execution_count": 18,
   "id": "c0605c6f",
   "metadata": {},
   "outputs": [],
   "source": [
    "# sns.lineplot(data = val)\n",
    "# plt.title(\"Stock trend for next five days\")\n",
    "\n",
    "# ra = plt.show()"
   ]
  },
  {
   "cell_type": "code",
   "execution_count": 19,
   "id": "fb7511a2",
   "metadata": {},
   "outputs": [],
   "source": [
    "# text = \"The trend of next five days\\nfirst day{}\\nsecond day{}\\nthird day{}\\nfourth day{}\\nfifth day{}\".format(val[0], val[1], val[2], val[3], val[4])"
   ]
  },
  {
   "cell_type": "code",
   "execution_count": 20,
   "id": "e7cb9e41",
   "metadata": {},
   "outputs": [],
   "source": [
    "# print(text)"
   ]
  },
  {
   "cell_type": "code",
   "execution_count": null,
   "id": "52c16cf0",
   "metadata": {},
   "outputs": [],
   "source": []
  }
 ],
 "metadata": {
  "kernelspec": {
   "display_name": "Python 3 (ipykernel)",
   "language": "python",
   "name": "python3"
  },
  "language_info": {
   "codemirror_mode": {
    "name": "ipython",
    "version": 3
   },
   "file_extension": ".py",
   "mimetype": "text/x-python",
   "name": "python",
   "nbconvert_exporter": "python",
   "pygments_lexer": "ipython3",
   "version": "3.9.7"
  }
 },
 "nbformat": 4,
 "nbformat_minor": 5
}
