{
 "cells": [
  {
   "cell_type": "markdown",
   "id": "8abdb01d",
   "metadata": {},
   "source": [
    "### Wayne Enterprises, Inc.'s Next Five days Stock Price Predictor"
   ]
  },
  {
   "cell_type": "code",
   "execution_count": 1,
   "id": "a1666a45",
   "metadata": {},
   "outputs": [],
   "source": [
    "import pandas as pd\n",
    "import numpy as np\n",
    "from sklearn import preprocessing\n",
    "from sklearn.model_selection import train_test_split\n",
    "from sklearn.linear_model import LinearRegression"
   ]
  },
  {
   "cell_type": "code",
   "execution_count": 2,
   "id": "140b31d3",
   "metadata": {},
   "outputs": [],
   "source": [
    "#shift() method is used to shift the index of the dataframe by the desired number of periods"
   ]
  },
  {
   "cell_type": "code",
   "execution_count": 3,
   "id": "ec9d6c92",
   "metadata": {},
   "outputs": [],
   "source": [
    "def prepare_data(df, forecast_col, forecast_out, test_size):\n",
    "    label = df[forecast_col].shift(-forecast_out)\n",
    "    X = np.array(df[[forecast_col]])\n",
    "    X = preprocessing.scale(X)\n",
    "    X_lately = X[-forecast_out:]\n",
    "    X = X[:-forecast_out]\n",
    "    label.dropna(inplace = True)\n",
    "    y = np.array(label)\n",
    "    \n",
    "    X_train, X_test, y_train, y_test = train_test_split(X, y, test_size = test_size, random_state = 0)\n",
    "    \n",
    "    response = [ X_train, X_test, y_train, y_test, X_lately]\n",
    "    \n",
    "    return response\n",
    "\n",
    "\n",
    "    "
   ]
  },
  {
   "cell_type": "code",
   "execution_count": 4,
   "id": "8feb52e2",
   "metadata": {},
   "outputs": [
    {
     "data": {
      "text/html": [
       "<div>\n",
       "<style scoped>\n",
       "    .dataframe tbody tr th:only-of-type {\n",
       "        vertical-align: middle;\n",
       "    }\n",
       "\n",
       "    .dataframe tbody tr th {\n",
       "        vertical-align: top;\n",
       "    }\n",
       "\n",
       "    .dataframe thead th {\n",
       "        text-align: right;\n",
       "    }\n",
       "</style>\n",
       "<table border=\"1\" class=\"dataframe\">\n",
       "  <thead>\n",
       "    <tr style=\"text-align: right;\">\n",
       "      <th></th>\n",
       "      <th>Date</th>\n",
       "      <th>Open</th>\n",
       "      <th>High</th>\n",
       "      <th>Low</th>\n",
       "      <th>Close</th>\n",
       "      <th>Shares Traded</th>\n",
       "      <th>Turnover (Rs. Cr)</th>\n",
       "      <th>symbol</th>\n",
       "    </tr>\n",
       "  </thead>\n",
       "  <tbody>\n",
       "    <tr>\n",
       "      <th>0</th>\n",
       "      <td>30-Sep-20</td>\n",
       "      <td>11244.45</td>\n",
       "      <td>11295.40</td>\n",
       "      <td>11184.55</td>\n",
       "      <td>11247.55</td>\n",
       "      <td>499343849</td>\n",
       "      <td>28134.77</td>\n",
       "      <td>Wyn</td>\n",
       "    </tr>\n",
       "    <tr>\n",
       "      <th>1</th>\n",
       "      <td>01-Oct-20</td>\n",
       "      <td>11364.45</td>\n",
       "      <td>11428.60</td>\n",
       "      <td>11347.05</td>\n",
       "      <td>11416.95</td>\n",
       "      <td>447740006</td>\n",
       "      <td>26212.72</td>\n",
       "      <td>Wyn</td>\n",
       "    </tr>\n",
       "    <tr>\n",
       "      <th>2</th>\n",
       "      <td>05-Oct-20</td>\n",
       "      <td>11487.80</td>\n",
       "      <td>11578.05</td>\n",
       "      <td>11452.30</td>\n",
       "      <td>11503.35</td>\n",
       "      <td>530597393</td>\n",
       "      <td>31341.55</td>\n",
       "      <td>Wyn</td>\n",
       "    </tr>\n",
       "    <tr>\n",
       "      <th>3</th>\n",
       "      <td>06-Oct-20</td>\n",
       "      <td>11603.45</td>\n",
       "      <td>11680.30</td>\n",
       "      <td>11564.30</td>\n",
       "      <td>11662.40</td>\n",
       "      <td>561444728</td>\n",
       "      <td>30373.65</td>\n",
       "      <td>Wyn</td>\n",
       "    </tr>\n",
       "    <tr>\n",
       "      <th>4</th>\n",
       "      <td>07-Oct-20</td>\n",
       "      <td>11679.25</td>\n",
       "      <td>11763.05</td>\n",
       "      <td>11629.35</td>\n",
       "      <td>11738.85</td>\n",
       "      <td>513367516</td>\n",
       "      <td>32935.98</td>\n",
       "      <td>Wyn</td>\n",
       "    </tr>\n",
       "  </tbody>\n",
       "</table>\n",
       "</div>"
      ],
      "text/plain": [
       "        Date      Open      High       Low     Close  Shares Traded  \\\n",
       "0  30-Sep-20  11244.45  11295.40  11184.55  11247.55      499343849   \n",
       "1  01-Oct-20  11364.45  11428.60  11347.05  11416.95      447740006   \n",
       "2  05-Oct-20  11487.80  11578.05  11452.30  11503.35      530597393   \n",
       "3  06-Oct-20  11603.45  11680.30  11564.30  11662.40      561444728   \n",
       "4  07-Oct-20  11679.25  11763.05  11629.35  11738.85      513367516   \n",
       "\n",
       "   Turnover (Rs. Cr) symbol  \n",
       "0           28134.77    Wyn  \n",
       "1           26212.72    Wyn  \n",
       "2           31341.55    Wyn  \n",
       "3           30373.65    Wyn  \n",
       "4           32935.98    Wyn  "
      ]
     },
     "execution_count": 4,
     "metadata": {},
     "output_type": "execute_result"
    }
   ],
   "source": [
    "# NIFTY 50 one year data. Which will be considered as Wayne Enterprises, Inc.'s stock\n",
    "\n",
    "nf_data = pd.read_csv(\"nifty_50.csv\")\n",
    "nf_data[\"symbol\"] = \"Wyn\"\n",
    "\n",
    "nf_data.head()"
   ]
  },
  {
   "cell_type": "code",
   "execution_count": 5,
   "id": "fa5531dc",
   "metadata": {},
   "outputs": [
    {
     "data": {
      "text/plain": [
       "Index(['Date', 'Open', 'High', 'Low', 'Close', 'Shares Traded',\n",
       "       'Turnover (Rs. Cr)', 'symbol'],\n",
       "      dtype='object')"
      ]
     },
     "execution_count": 5,
     "metadata": {},
     "output_type": "execute_result"
    }
   ],
   "source": [
    "nf_data.columns"
   ]
  },
  {
   "cell_type": "code",
   "execution_count": 6,
   "id": "7222a56e",
   "metadata": {},
   "outputs": [],
   "source": [
    "Xn_train, Xn_test, yn_train, yn_test, Xn_lately = prepare_data(nf_data, forecast_col = \"Close\", forecast_out = 5, test_size = 0.2)"
   ]
  },
  {
   "cell_type": "code",
   "execution_count": 7,
   "id": "b253b375",
   "metadata": {},
   "outputs": [
    {
     "data": {
      "text/plain": [
       "LinearRegression()"
      ]
     },
     "execution_count": 7,
     "metadata": {},
     "output_type": "execute_result"
    }
   ],
   "source": [
    "nf_linear = LinearRegression()\n",
    "\n",
    "nf_linear.fit(Xn_train, yn_train)\n",
    "\n"
   ]
  },
  {
   "cell_type": "code",
   "execution_count": 8,
   "id": "47438af3",
   "metadata": {},
   "outputs": [
    {
     "name": "stdout",
     "output_type": "stream",
     "text": [
      "Wyn prediction score:0.9715571161048697\n",
      "\n",
      "Forecast:[17614.50308349 17433.10537849 17592.19574288 17577.40448247\n",
      " 17843.64716982]\n"
     ]
    }
   ],
   "source": [
    "nf_score = nf_linear.score(Xn_test, yn_test)\n",
    "nf_pred = nf_linear.predict(Xn_lately)\n",
    "\n",
    "print(f\"Wyn prediction score:{nf_score}\\n\\nForecast:{nf_pred}\")"
   ]
  },
  {
   "cell_type": "code",
   "execution_count": 9,
   "id": "dd40b40c",
   "metadata": {},
   "outputs": [
    {
     "data": {
      "text/html": [
       "<div>\n",
       "<style scoped>\n",
       "    .dataframe tbody tr th:only-of-type {\n",
       "        vertical-align: middle;\n",
       "    }\n",
       "\n",
       "    .dataframe tbody tr th {\n",
       "        vertical-align: top;\n",
       "    }\n",
       "\n",
       "    .dataframe thead th {\n",
       "        text-align: right;\n",
       "    }\n",
       "</style>\n",
       "<table border=\"1\" class=\"dataframe\">\n",
       "  <thead>\n",
       "    <tr style=\"text-align: right;\">\n",
       "      <th></th>\n",
       "      <th>Date</th>\n",
       "      <th>Open</th>\n",
       "      <th>High</th>\n",
       "      <th>Low</th>\n",
       "      <th>Close</th>\n",
       "      <th>Shares Traded</th>\n",
       "      <th>Turnover (Rs. Cr)</th>\n",
       "      <th>symbol</th>\n",
       "    </tr>\n",
       "  </thead>\n",
       "  <tbody>\n",
       "    <tr>\n",
       "      <th>239</th>\n",
       "      <td>17-Sep-21</td>\n",
       "      <td>17709.65</td>\n",
       "      <td>17792.95</td>\n",
       "      <td>17537.65</td>\n",
       "      <td>17585.15</td>\n",
       "      <td>508285916</td>\n",
       "      <td>43345.58</td>\n",
       "      <td>Wyn</td>\n",
       "    </tr>\n",
       "    <tr>\n",
       "      <th>240</th>\n",
       "      <td>20-Sep-21</td>\n",
       "      <td>17443.85</td>\n",
       "      <td>17622.75</td>\n",
       "      <td>17361.80</td>\n",
       "      <td>17396.90</td>\n",
       "      <td>339102046</td>\n",
       "      <td>25304.27</td>\n",
       "      <td>Wyn</td>\n",
       "    </tr>\n",
       "    <tr>\n",
       "      <th>241</th>\n",
       "      <td>21-Sep-21</td>\n",
       "      <td>17450.50</td>\n",
       "      <td>17578.35</td>\n",
       "      <td>17326.10</td>\n",
       "      <td>17562.00</td>\n",
       "      <td>363578479</td>\n",
       "      <td>26520.99</td>\n",
       "      <td>Wyn</td>\n",
       "    </tr>\n",
       "    <tr>\n",
       "      <th>242</th>\n",
       "      <td>22-Sep-21</td>\n",
       "      <td>17580.90</td>\n",
       "      <td>17610.45</td>\n",
       "      <td>17524.00</td>\n",
       "      <td>17546.65</td>\n",
       "      <td>295191136</td>\n",
       "      <td>21772.23</td>\n",
       "      <td>Wyn</td>\n",
       "    </tr>\n",
       "    <tr>\n",
       "      <th>243</th>\n",
       "      <td>23-Sep-21</td>\n",
       "      <td>17670.85</td>\n",
       "      <td>17843.90</td>\n",
       "      <td>17646.55</td>\n",
       "      <td>17822.95</td>\n",
       "      <td>320514486</td>\n",
       "      <td>25005.36</td>\n",
       "      <td>Wyn</td>\n",
       "    </tr>\n",
       "  </tbody>\n",
       "</table>\n",
       "</div>"
      ],
      "text/plain": [
       "          Date      Open      High       Low     Close  Shares Traded  \\\n",
       "239  17-Sep-21  17709.65  17792.95  17537.65  17585.15      508285916   \n",
       "240  20-Sep-21  17443.85  17622.75  17361.80  17396.90      339102046   \n",
       "241  21-Sep-21  17450.50  17578.35  17326.10  17562.00      363578479   \n",
       "242  22-Sep-21  17580.90  17610.45  17524.00  17546.65      295191136   \n",
       "243  23-Sep-21  17670.85  17843.90  17646.55  17822.95      320514486   \n",
       "\n",
       "     Turnover (Rs. Cr) symbol  \n",
       "239           43345.58    Wyn  \n",
       "240           25304.27    Wyn  \n",
       "241           26520.99    Wyn  \n",
       "242           21772.23    Wyn  \n",
       "243           25005.36    Wyn  "
      ]
     },
     "execution_count": 9,
     "metadata": {},
     "output_type": "execute_result"
    }
   ],
   "source": [
    "nf_data.tail()"
   ]
  },
  {
   "cell_type": "code",
   "execution_count": 10,
   "id": "b13de61e",
   "metadata": {},
   "outputs": [],
   "source": [
    "# import pickle as pkl\n",
    "\n",
    "# pkl.dump(nf_data, open(\"nf_model.pkl\", \"wb\"))"
   ]
  },
  {
   "cell_type": "code",
   "execution_count": null,
   "id": "a17774ca",
   "metadata": {},
   "outputs": [],
   "source": []
  },
  {
   "cell_type": "code",
   "execution_count": null,
   "id": "b8ae8797",
   "metadata": {},
   "outputs": [],
   "source": []
  },
  {
   "cell_type": "code",
   "execution_count": null,
   "id": "5a560823",
   "metadata": {},
   "outputs": [],
   "source": []
  }
 ],
 "metadata": {
  "kernelspec": {
   "display_name": "Python 3 (ipykernel)",
   "language": "python",
   "name": "python3"
  },
  "language_info": {
   "codemirror_mode": {
    "name": "ipython",
    "version": 3
   },
   "file_extension": ".py",
   "mimetype": "text/x-python",
   "name": "python",
   "nbconvert_exporter": "python",
   "pygments_lexer": "ipython3",
   "version": "3.9.7"
  }
 },
 "nbformat": 4,
 "nbformat_minor": 5
}
